{
 "cells": [
  {
   "cell_type": "markdown",
   "metadata": {},
   "source": [
    "# Correo electronico del encargado de las careers de DEV.F:\n",
    "david.zonana@devf.mx\n"
   ]
  },
  {
   "cell_type": "markdown",
   "metadata": {},
   "source": [
    "## Instaladores\n",
    "\n",
    "npm i bootstrap\n",
    "npm i react-icons\n",
    "npm i axios\n"
   ]
  }
 ],
 "metadata": {
  "language_info": {
   "name": "python"
  },
  "orig_nbformat": 4
 },
 "nbformat": 4,
 "nbformat_minor": 2
}
